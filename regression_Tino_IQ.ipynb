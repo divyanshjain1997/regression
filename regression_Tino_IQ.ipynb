{
 "cells": [
  {
   "cell_type": "code",
   "execution_count": 1,
   "metadata": {},
   "outputs": [],
   "source": [
    "import pandas as pd"
   ]
  },
  {
   "cell_type": "code",
   "execution_count": 3,
   "metadata": {},
   "outputs": [],
   "source": [
    "data=pd.read_csv(r\"C:\\Users\\Dell\\Desktop\\historical_data.csv\")"
   ]
  },
  {
   "cell_type": "markdown",
   "metadata": {},
   "source": [
    "# Normalisation "
   ]
  },
  {
   "cell_type": "code",
   "execution_count": 34,
   "metadata": {},
   "outputs": [],
   "source": [
    "data['volume']=data['volume'].apply(lambda x:((x-min(data['volume']))/(max(data['volume'])-min(data['volume']))))"
   ]
  },
  {
   "cell_type": "markdown",
   "metadata": {},
   "source": [
    "# preprocessing "
   ]
  },
  {
   "cell_type": "code",
   "execution_count": 39,
   "metadata": {},
   "outputs": [],
   "source": [
    "data.drop(['symbol','name','class_type_of','date_txn'],axis=1,inplace=True)"
   ]
  },
  {
   "cell_type": "code",
   "execution_count": 29,
   "metadata": {},
   "outputs": [],
   "source": [
    "data.drop(data['low'].idxmin(),inplace=True)"
   ]
  },
  {
   "cell_type": "code",
   "execution_count": 47,
   "metadata": {},
   "outputs": [],
   "source": [
    "data.dropna(inplace=True)"
   ]
  },
  {
   "cell_type": "code",
   "execution_count": 48,
   "metadata": {},
   "outputs": [],
   "source": [
    "train=data.iloc[:550]\n",
    "test=data.iloc[551:]"
   ]
  },
  {
   "cell_type": "code",
   "execution_count": 80,
   "metadata": {},
   "outputs": [],
   "source": [
    "train_feature=train[['open','low','high','volume','lead_1','lead_5','lead_10']]\n",
    "train_target=train['close_price']"
   ]
  },
  {
   "cell_type": "code",
   "execution_count": 81,
   "metadata": {},
   "outputs": [],
   "source": [
    "test_feature=test[['open','low','high','volume','lead_1','lead_5','lead_10']]\n",
    "test_target=test['close_price']"
   ]
  },
  {
   "cell_type": "code",
   "execution_count": 31,
   "metadata": {},
   "outputs": [],
   "source": [
    "import numpy as np\n",
    "from sklearn import linear_model "
   ]
  },
  {
   "cell_type": "code",
   "execution_count": 107,
   "metadata": {},
   "outputs": [],
   "source": [
    "reg = linear_model.LinearRegression()"
   ]
  },
  {
   "cell_type": "code",
   "execution_count": 108,
   "metadata": {},
   "outputs": [
    {
     "data": {
      "text/plain": [
       "LinearRegression(copy_X=True, fit_intercept=True, n_jobs=1, normalize=False)"
      ]
     },
     "execution_count": 108,
     "metadata": {},
     "output_type": "execute_result"
    }
   ],
   "source": [
    "reg.fit(train_feature,train_target)"
   ]
  },
  {
   "cell_type": "code",
   "execution_count": 109,
   "metadata": {},
   "outputs": [],
   "source": [
    "pred=reg.predict(test_feature)"
   ]
  },
  {
   "cell_type": "code",
   "execution_count": 110,
   "metadata": {},
   "outputs": [
    {
     "data": {
      "text/plain": [
       "array([282.54869607, 283.13830861, 283.19741621, 283.80996329,\n",
       "       285.95427998, 284.9856316 , 283.36768686, 281.92431239,\n",
       "       281.49196067, 275.29759742, 269.72019582, 267.20079484,\n",
       "       269.01401057, 262.11728924, 259.54172227, 265.38070657,\n",
       "       266.49343405, 269.94497432, 271.5847975 , 274.01315335,\n",
       "       272.22415803, 272.94292002, 272.32356995, 274.6285911 ,\n",
       "       276.87287916, 276.03668018, 272.75980716, 269.72555933,\n",
       "       272.43945481, 272.2563008 , 272.90784888, 274.36242233,\n",
       "       278.85017526, 277.99294718, 276.08942256, 271.76648207,\n",
       "       271.06986108, 271.29480353, 264.94795647, 261.90069147,\n",
       "       263.07011053, 262.46567179, 261.25470942, 263.06346665,\n",
       "       259.00093779, 260.34177279, 263.91311701, 264.80410794,\n",
       "       261.64223575, 263.90734944, 264.7978774 , 265.30071243,\n",
       "       266.40039409, 265.93791279, 267.97396356, 270.40861687,\n",
       "       270.50559065, 268.42828905, 267.12992445, 266.21529643,\n",
       "       264.47152108, 263.25933286, 266.69474812, 266.1413524 ,\n",
       "       266.06682175, 263.83927713, 264.09907921, 261.93326793,\n",
       "       266.27611732, 267.34863969, 266.89216452, 269.74595889,\n",
       "       272.15154659, 272.71788807, 273.11672578, 270.79074582,\n",
       "       272.47467295, 272.45164962])"
      ]
     },
     "execution_count": 110,
     "metadata": {},
     "output_type": "execute_result"
    }
   ],
   "source": [
    "pred"
   ]
  },
  {
   "cell_type": "code",
   "execution_count": 111,
   "metadata": {},
   "outputs": [],
   "source": [
    "from sklearn.metrics import mean_squared_error, r2_score"
   ]
  },
  {
   "cell_type": "code",
   "execution_count": 112,
   "metadata": {},
   "outputs": [
    {
     "name": "stdout",
     "output_type": "stream",
     "text": [
      "1.94\n"
     ]
    }
   ],
   "source": [
    "print(\"%.2f\"%mean_squared_error(pred,test_target))"
   ]
  },
  {
   "cell_type": "code",
   "execution_count": 73,
   "metadata": {},
   "outputs": [],
   "source": [
    "import matplotlib.pyplot as mp"
   ]
  },
  {
   "cell_type": "code",
   "execution_count": null,
   "metadata": {},
   "outputs": [],
   "source": [
    "mp.pai"
   ]
  },
  {
   "cell_type": "code",
   "execution_count": 95,
   "metadata": {},
   "outputs": [
    {
     "data": {
      "text/plain": [
       "[<matplotlib.lines.Line2D at 0x1287139add8>]"
      ]
     },
     "execution_count": 95,
     "metadata": {},
     "output_type": "execute_result"
    },
    {
     "data": {
      "image/png": "[encoded data removed]",
      "text/plain": [
       "<Figure size 432x288 with 1 Axes>"
      ]
     },
     "metadata": {},
     "output_type": "display_data"
    }
   ],
   "source": [
    "mp.plot(test['open'],test['close_price'],'.')\n",
    "mp.plot(test['open'],pred,'.')"
   ]
  },
  {
   "cell_type": "code",
   "execution_count": null,
   "metadata": {},
   "outputs": [],
   "source": []
  }
 ],
 "metadata": {
  "kernelspec": {
   "display_name": "Python 3",
   "language": "python",
   "name": "python3"
  },
  "language_info": {
   "codemirror_mode": {
    "name": "ipython",
    "version": 3
   },
   "file_extension": ".py",
   "mimetype": "text/x-python",
   "name": "python",
   "nbconvert_exporter": "python",
   "pygments_lexer": "ipython3",
   "version": "3.6.5"
  }
 },
 "nbformat": 4,
 "nbformat_minor": 2
}
